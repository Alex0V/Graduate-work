{
 "cells": [
  {
   "cell_type": "code",
   "execution_count": 1,
   "metadata": {},
   "outputs": [],
   "source": [
    "import requests\n",
    "import pyodbc\n",
    "import pandas as pd\n",
    "import os\n",
    "import numpy as np\n",
    "from scipy.spatial.distance import jaccard"
   ]
  },
  {
   "cell_type": "code",
   "execution_count": 3,
   "metadata": {},
   "outputs": [],
   "source": [
    "def get_hybrid_recomendation(userId, meditationProgramId, count):\n",
    "    get_recommendations_url = 'http://localhost:5000/get_recommendations'\n",
    "    params = {\n",
    "        'userId': str(userId),\n",
    "        'meditationProgramId': str(meditationProgramId),\n",
    "        'count': str(count)\n",
    "    }\n",
    "    response = requests.get(get_recommendations_url, params=params)\n",
    "\n",
    "    if response.status_code == 200:\n",
    "        recommendations_json = response.json()\n",
    "        print('Recommendations:', recommendations_json)\n",
    "    else:\n",
    "        print('Error:', response.json())\n",
    "        \n",
    "    return recommendations_json.get('recommendations', [])"
   ]
  },
  {
   "cell_type": "code",
   "execution_count": 4,
   "metadata": {},
   "outputs": [
    {
     "name": "stdout",
     "output_type": "stream",
     "text": [
      "Recommendations: {'recommendations': [8, 7, 19, 6, 9, 17, 18, 27, 30, 1]}\n"
     ]
    }
   ],
   "source": [
    "userId = 17\n",
    "meditationProgramId = 6\n",
    "count = 10\n",
    "recommendations = get_hybrid_recomendation(userId, meditationProgramId, count)"
   ]
  },
  {
   "cell_type": "code",
   "execution_count": 95,
   "metadata": {},
   "outputs": [
    {
     "name": "stdout",
     "output_type": "stream",
     "text": [
      "[10, 26, 13, 4, 11, 30, 14, 28, 16, 6, 9, 8, 5, 25, 2, 22, 17, 7, 24, 19, 18]\n"
     ]
    }
   ],
   "source": [
    "conn = pyodbc.connect(\"DRIVER={SQL Server};SERVER=DESKTOP-7S5VEFS\\\\SQLEXPRESS; DATABASE=NewMedit;Trusted_Connection=True;\")\n",
    "cursor = conn.cursor()\n",
    "cursor.execute(\"SELECT MeditationProgramId FROM Ratings WHERE UserId = ?\", (userId))\n",
    "results = cursor.fetchall()\n",
    "actual_items = [row[0] for row in results]\n",
    "cursor.close()\n",
    "conn.close()\n",
    "print(actual_items)"
   ]
  },
  {
   "cell_type": "code",
   "execution_count": 96,
   "metadata": {},
   "outputs": [],
   "source": [
    "def precision_recall_at_k(recommendations, actual_items, k):\n",
    "    recommendations = recommendations[:k]\n",
    "    num_hit = len(set(recommendations) & set(actual_items))\n",
    "    \n",
    "    precision = num_hit / k if k != 0 else 0\n",
    "    recall = num_hit / len(actual_items) if len(actual_items) != 0 else 0\n",
    "    \n",
    "    return precision, recall"
   ]
  },
  {
   "cell_type": "code",
   "execution_count": 97,
   "metadata": {},
   "outputs": [
    {
     "name": "stdout",
     "output_type": "stream",
     "text": [
      "precision -- 0.8\n",
      "recall -- 0.38095238095238093\n"
     ]
    }
   ],
   "source": [
    "precision, recall = precision_recall_at_k(recommendations, actual_items, count)\n",
    "print(f\"precision -- {precision}\")\n",
    "print(f\"recall -- {recall}\")"
   ]
  },
  {
   "cell_type": "code",
   "execution_count": 98,
   "metadata": {},
   "outputs": [],
   "source": [
    "def ndcg_at_k(recommendations, actual_items, k):\n",
    "    dcg = 0\n",
    "    idcg = 0\n",
    "    # Обчислюємо DCG (дисконтований кумулятивний приріст)\n",
    "    for i, item in enumerate(recommendations[:k]):\n",
    "        if item in actual_items:\n",
    "            dcg += 1 / np.log2(i + 2)\n",
    "    # Обчислюємо IDCG (ідеальний дисконтований кумулятивний приріст)\n",
    "    for i in range(min(k, len(actual_items))):\n",
    "        idcg += 1 / np.log2(i + 2)\n",
    "    # Повертаємо нормалізований DCG\n",
    "    return dcg / idcg if idcg > 0 else 0"
   ]
  },
  {
   "cell_type": "code",
   "execution_count": 99,
   "metadata": {},
   "outputs": [
    {
     "name": "stdout",
     "output_type": "stream",
     "text": [
      "0.866947989864271\n"
     ]
    }
   ],
   "source": [
    "print(f\"{ndcg_at_k(recommendations, actual_items, count)}\")"
   ]
  },
  {
   "cell_type": "code",
   "execution_count": 100,
   "metadata": {},
   "outputs": [],
   "source": [
    "def novelty(recommendations, user_history, all_meditations):\n",
    "    # Знаходимо нові медитації (ті, яких немає в історії користувача)\n",
    "    new_items = set(recommendations) - set(user_history)\n",
    "    # Повертаємо частку нових медитацій серед усіх рекомендацій\n",
    "    return len(new_items) / len(recommendations)"
   ]
  },
  {
   "cell_type": "code",
   "execution_count": 101,
   "metadata": {},
   "outputs": [
    {
     "name": "stdout",
     "output_type": "stream",
     "text": [
      "0.2\n"
     ]
    }
   ],
   "source": [
    "print(f\"{novelty(recommendations, actual_items, 10)}\")"
   ]
  },
  {
   "cell_type": "code",
   "execution_count": 92,
   "metadata": {},
   "outputs": [
    {
     "name": "stdout",
     "output_type": "stream",
     "text": [
      "[2, 3, 4, 5, 6, 7, 8, 9, 10, 11, 12, 13, 14, 15, 16, 17, 18, 19, 20, 21, 22, 23, 24, 25, 26, 27, 28, 29, 30, 31, 32, 33, 34, 35, 36, 37, 38, 39, 40]\n"
     ]
    }
   ],
   "source": [
    "conn = pyodbc.connect(\"DRIVER={SQL Server};SERVER=DESKTOP-7S5VEFS\\\\SQLEXPRESS; DATABASE=NewMedit;Trusted_Connection=True;\")\n",
    "cursor = conn.cursor()\n",
    "cursor.execute(\"SELECT DISTINCT UserId FROM Ratings;\")\n",
    "results = cursor.fetchall()\n",
    "userIds = [row[0] for row in results]\n",
    "cursor.close()\n",
    "conn.close()\n",
    "print(userIds)"
   ]
  },
  {
   "cell_type": "code",
   "execution_count": 102,
   "metadata": {},
   "outputs": [],
   "source": [
    "def personalization(all_recommendations):\n",
    "    distances = []\n",
    "    # Обчислюємо відстань Жаккара між списками рекомендацій для всіх пар користувачів\n",
    "    for i in range(len(all_recommendations)):\n",
    "        for j in range(i+1, len(all_recommendations)):\n",
    "            # Порівнюємо рекомендації i-го користувача з рекомендаціями j-го користувача\n",
    "            distances.append(jaccard(all_recommendations[i], all_recommendations[j]))\n",
    "    # Повертаємо середню відстань між рекомендаціями різних користувачів\n",
    "    return np.mean(distances)"
   ]
  },
  {
   "cell_type": "code",
   "execution_count": 107,
   "metadata": {},
   "outputs": [
    {
     "name": "stdout",
     "output_type": "stream",
     "text": [
      "Recommendations: {'recommendations': [3, 5, 4, 30, 8, 20, 23, 1, 19, 6]}\n",
      "Recommendations: {'recommendations': [5, 30, 3, 4, 8, 23, 20, 1, 6, 9]}\n",
      "Recommendations: {'recommendations': [8, 27, 3, 19, 6, 9, 15, 20, 14, 5]}\n",
      "Recommendations: {'recommendations': [5, 3, 4, 8, 30, 20, 23, 1, 6, 19]}\n",
      "Recommendations: {'recommendations': [5, 3, 4, 8, 30, 20, 23, 1, 9, 6]}\n",
      "Recommendations: {'recommendations': [5, 3, 4, 8, 30, 20, 23, 1, 6, 19]}\n",
      "Recommendations: {'recommendations': [5, 3, 4, 8, 30, 20, 23, 1, 6, 19]}\n",
      "Recommendations: {'recommendations': [5, 3, 4, 8, 30, 20, 23, 1, 6, 13]}\n",
      "Recommendations: {'recommendations': [5, 3, 4, 30, 8, 20, 23, 1, 27, 9]}\n",
      "Recommendations: {'recommendations': [5, 3, 4, 8, 30, 20, 23, 1, 6, 9]}\n",
      "Recommendations: {'recommendations': [3, 5, 4, 8, 30, 20, 23, 1, 6, 19]}\n",
      "Recommendations: {'recommendations': [5, 3, 8, 4, 30, 20, 23, 1, 6, 16]}\n",
      "Recommendations: {'recommendations': [5, 3, 4, 30, 8, 20, 23, 1, 7, 12]}\n",
      "Recommendations: {'recommendations': [3, 5, 4, 30, 8, 20, 23, 1, 6, 16]}\n",
      "Recommendations: {'recommendations': [5, 3, 8, 4, 30, 20, 23, 1, 6, 16]}\n",
      "Recommendations: {'recommendations': [8, 7, 19, 6, 9, 17, 18, 27, 30, 1]}\n",
      "Recommendations: {'recommendations': [3, 5, 4, 8, 30, 20, 23, 1, 2, 6]}\n",
      "Recommendations: {'recommendations': [5, 3, 8, 4, 30, 23, 20, 1, 6, 16]}\n",
      "Recommendations: {'recommendations': [5, 3, 4, 8, 30, 20, 23, 1, 6, 13]}\n",
      "Recommendations: {'recommendations': [3, 5, 4, 30, 8, 20, 1, 23, 27, 16]}\n",
      "Recommendations: {'recommendations': [8, 11, 6, 7, 20, 27, 9, 19, 30, 5]}\n",
      "Recommendations: {'recommendations': [6, 8, 9, 11, 27, 23, 7, 13, 30, 5]}\n",
      "Recommendations: {'recommendations': [3, 7, 19, 6, 1, 8, 27, 11, 5, 4]}\n",
      "Recommendations: {'recommendations': [5, 3, 4, 30, 8, 20, 23, 1, 11, 13]}\n",
      "Recommendations: {'recommendations': [5, 3, 30, 4, 20, 8, 23, 1, 24, 27]}\n",
      "Recommendations: {'recommendations': [5, 3, 4, 30, 20, 8, 23, 1, 27, 24]}\n",
      "Recommendations: {'recommendations': [5, 3, 4, 8, 30, 20, 23, 1, 6, 19]}\n",
      "Recommendations: {'recommendations': [5, 3, 4, 30, 8, 20, 23, 1, 9, 6]}\n",
      "Recommendations: {'recommendations': [5, 3, 4, 30, 8, 23, 20, 1, 6, 27]}\n",
      "Recommendations: {'recommendations': [5, 3, 4, 8, 30, 20, 23, 1, 19, 6]}\n",
      "Recommendations: {'recommendations': [3, 5, 4, 30, 8, 23, 20, 1, 6, 19]}\n",
      "Recommendations: {'recommendations': [5, 3, 4, 30, 8, 23, 20, 1, 2, 6]}\n",
      "Recommendations: {'recommendations': [5, 3, 4, 30, 8, 23, 20, 1, 19, 24]}\n",
      "Recommendations: {'recommendations': [5, 3, 4, 30, 20, 8, 23, 1, 27, 24]}\n",
      "Recommendations: {'recommendations': [5, 3, 4, 8, 30, 20, 1, 23, 19, 6]}\n",
      "Recommendations: {'recommendations': [3, 5, 4, 30, 8, 20, 1, 23, 6, 7]}\n",
      "Recommendations: {'recommendations': [5, 3, 8, 4, 30, 20, 23, 1, 6, 16]}\n",
      "Recommendations: {'recommendations': [5, 3, 4, 8, 30, 23, 20, 1, 6, 21]}\n",
      "Recommendations: {'recommendations': [6, 7, 19, 13, 8, 9, 27, 15, 5, 3]}\n",
      "[[3, 5, 4, 30, 8, 20, 23, 1, 19, 6], [5, 30, 3, 4, 8, 23, 20, 1, 6, 9], [8, 27, 3, 19, 6, 9, 15, 20, 14, 5], [5, 3, 4, 8, 30, 20, 23, 1, 6, 19], [5, 3, 4, 8, 30, 20, 23, 1, 9, 6], [5, 3, 4, 8, 30, 20, 23, 1, 6, 19], [5, 3, 4, 8, 30, 20, 23, 1, 6, 19], [5, 3, 4, 8, 30, 20, 23, 1, 6, 13], [5, 3, 4, 30, 8, 20, 23, 1, 27, 9], [5, 3, 4, 8, 30, 20, 23, 1, 6, 9], [3, 5, 4, 8, 30, 20, 23, 1, 6, 19], [5, 3, 8, 4, 30, 20, 23, 1, 6, 16], [5, 3, 4, 30, 8, 20, 23, 1, 7, 12], [3, 5, 4, 30, 8, 20, 23, 1, 6, 16], [5, 3, 8, 4, 30, 20, 23, 1, 6, 16], [8, 7, 19, 6, 9, 17, 18, 27, 30, 1], [3, 5, 4, 8, 30, 20, 23, 1, 2, 6], [5, 3, 8, 4, 30, 23, 20, 1, 6, 16], [5, 3, 4, 8, 30, 20, 23, 1, 6, 13], [3, 5, 4, 30, 8, 20, 1, 23, 27, 16], [8, 11, 6, 7, 20, 27, 9, 19, 30, 5], [6, 8, 9, 11, 27, 23, 7, 13, 30, 5], [3, 7, 19, 6, 1, 8, 27, 11, 5, 4], [5, 3, 4, 30, 8, 20, 23, 1, 11, 13], [5, 3, 30, 4, 20, 8, 23, 1, 24, 27], [5, 3, 4, 30, 20, 8, 23, 1, 27, 24], [5, 3, 4, 8, 30, 20, 23, 1, 6, 19], [5, 3, 4, 30, 8, 20, 23, 1, 9, 6], [5, 3, 4, 30, 8, 23, 20, 1, 6, 27], [5, 3, 4, 8, 30, 20, 23, 1, 19, 6], [3, 5, 4, 30, 8, 23, 20, 1, 6, 19], [5, 3, 4, 30, 8, 23, 20, 1, 2, 6], [5, 3, 4, 30, 8, 23, 20, 1, 19, 24], [5, 3, 4, 30, 20, 8, 23, 1, 27, 24], [5, 3, 4, 8, 30, 20, 1, 23, 19, 6], [3, 5, 4, 30, 8, 20, 1, 23, 6, 7], [5, 3, 8, 4, 30, 20, 23, 1, 6, 16], [5, 3, 4, 8, 30, 23, 20, 1, 6, 21], [6, 7, 19, 13, 8, 9, 27, 15, 5, 3]]\n"
     ]
    }
   ],
   "source": [
    "user_recommendations = []\n",
    "meditationProgramId = 6\n",
    "count = 10\n",
    "for userId in userIds:\n",
    "    user_recommendations.append(get_hybrid_recomendation(userId, meditationProgramId, count))\n",
    "print(user_recommendations)"
   ]
  },
  {
   "cell_type": "code",
   "execution_count": 108,
   "metadata": {},
   "outputs": [
    {
     "name": "stdout",
     "output_type": "stream",
     "text": [
      "0.6357624831309042\n"
     ]
    }
   ],
   "source": [
    "print(f\"{personalization(user_recommendations)}\")"
   ]
  },
  {
   "cell_type": "code",
   "execution_count": 41,
   "metadata": {},
   "outputs": [
    {
     "name": "stdout",
     "output_type": "stream",
     "text": [
      "Models updated sucessfull\n"
     ]
    }
   ],
   "source": [
    "update_models_url = 'http://localhost:5000/update-models'  # змініть URL на відповідний, якщо сервер працює на іншому порту або хості\n",
    "\n",
    "# Надсилання POST-запиту без даних\n",
    "response = requests.post(update_models_url)\n",
    "\n",
    "# Обробка відповіді\n",
    "if response.status_code == 200:\n",
    "    print(response.text)\n",
    "else:\n",
    "    print('Error:', response.text)"
   ]
  }
 ],
 "metadata": {
  "kernelspec": {
   "display_name": "diploma",
   "language": "python",
   "name": "python3"
  },
  "language_info": {
   "codemirror_mode": {
    "name": "ipython",
    "version": 3
   },
   "file_extension": ".py",
   "mimetype": "text/x-python",
   "name": "python",
   "nbconvert_exporter": "python",
   "pygments_lexer": "ipython3",
   "version": "3.11.9"
  }
 },
 "nbformat": 4,
 "nbformat_minor": 2
}
